{
  "nbformat": 4,
  "nbformat_minor": 0,
  "metadata": {
    "colab": {
      "name": "Tarea_Clase05",
      "provenance": [],
      "collapsed_sections": [],
      "authorship_tag": "ABX9TyNHjz2TXllL94vEj7skFd8F",
      "include_colab_link": true
    },
    "kernelspec": {
      "name": "python3",
      "display_name": "Python 3"
    }
  },
  "cells": [
    {
      "cell_type": "markdown",
      "metadata": {
        "id": "view-in-github",
        "colab_type": "text"
      },
      "source": [
        "<a href=\"https://colab.research.google.com/github/ABocanegra06/Clase05/blob/main/Tarea_Clase05.ipynb\" target=\"_parent\"><img src=\"https://colab.research.google.com/assets/colab-badge.svg\" alt=\"Open In Colab\"/></a>"
      ]
    },
    {
      "cell_type": "code",
      "metadata": {
        "colab": {
          "base_uri": "https://localhost:8080/"
        },
        "id": "FhOdM0cGTeJr",
        "outputId": "72ac5375-80c4-4468-c37c-04a501cbc776"
      },
      "source": [
        "#El Crustaceo Cascarudo\r\n",
        "print(\"Calamardo: Dejame adivinar, una mini ensalada?\");\r\n",
        "\r\n",
        "print(\"Robalo Burbuja: Dame un doble, triple en balsa decorado de lujo de 4x4 estilo animal, guijarros extras con vibración exprimida con grasa ligera, hazlo llorar, quémalo y déjalo nadar\")\r\n",
        "\r\n",
        "print(\"Calamardo: Aqui servimos comida señor\");\r\n",
        "\r\n",
        "print(\"Bob Esponja: Ya lo hice Calamardo\")\r\n",
        "\r\n",
        "#Variables\r\n",
        "Carne = \"Doble triple\"\r\n",
        "Salsa = \"De Coral\"\r\n",
        "Decorado = \"De lujo\"\r\n",
        "Estilo = \"Animal\"\r\n",
        "Guijarros = \"Extra\"\r\n",
        "Vibración = \"Exprimida\"\r\n",
        "Eje = \"Con grasa ligera\"\r\n",
        "Hazlo = \"Llorar\"\r\n",
        "Quémalo = \"Sí\"\r\n",
        "Nadando = \"Sí\"\r\n",
        "Pepinillos = \"Sí\"\r\n",
        "\r\n",
        "\r\n",
        "if (Carne == \"Doble triple\" and \r\n",
        "Salsa == \"De Coral\" and\r\n",
        "Decorado == \"De lujo\" and\r\n",
        "Estilo == \"Animal\" and \r\n",
        "Guijarros == \"Extra\" and\r\n",
        "Vibración == \"Exprimida\" and\r\n",
        "Eje == \"Con grasa ligera\" and \r\n",
        "Hazlo == \"Llorar\" and\r\n",
        "Quémalo == \"Sí\" and\r\n",
        "Nadando == \"Sí\" or\r\n",
        "Pepinillos == \"No\"):\r\n",
        "  print(\"Quiere la kangreburguer*\")\r\n",
        "else:\r\n",
        "  print(\"No quiere la kangrebuger*\")"
      ],
      "execution_count": 5,
      "outputs": [
        {
          "output_type": "stream",
          "text": [
            "Calamardo: Dejame adivinar, una mini ensalada?\n",
            "Robalo Burbuja: Dame un doble, triple en balsa decorado de lujo de 4x4 estilo animal, guijarros extras con vibración exprimida con grasa ligera, hazlo llorar, quémalo y déjalo nadar\n",
            "Calamardo: Aqui servimos comida señor\n",
            "Bob Esponja: Ya lo hice Calamardo\n",
            "Quiere la kangreburguer*\n"
          ],
          "name": "stdout"
        }
      ]
    }
  ]
}